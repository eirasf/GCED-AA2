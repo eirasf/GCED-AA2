{
  "nbformat": 4,
  "nbformat_minor": 0,
  "metadata": {
    "colab": {
      "name": "3_Tensores_ejemplos.ipynb",
      "provenance": []
    },
    "kernelspec": {
      "name": "python3",
      "display_name": "Python 3"
    },
    "language_info": {
      "name": "python"
    }
  },
  "cells": [
    {
      "cell_type": "markdown",
      "metadata": {
        "id": "OqpKF1aT39go"
      },
      "source": [
        "[![Open In Colab](https://colab.research.google.com/assets/colab-badge.svg)](https://colab.research.google.com/github/eirasf/GCED-AA2/blob/main/lab1/3_Tensores_ejemplos.ipynb)"
      ]
    },
    {
      "cell_type": "code",
      "metadata": {
        "id": "bl-cUrhK0g_T",
        "colab": {
          "base_uri": "https://localhost:8080/"
        },
        "outputId": "abfbf604-18de-4f4a-a0f8-0fee4bd6c9e9"
      },
      "source": [
        "import tensorflow as tf\n",
        "#tensores de orden 0\n",
        "saludo=tf.constant(\"hola\",tf.string)\n",
        "numero=tf.constant(5,tf.int16)\n",
        "print(\"`saludo` is a {}-d Tensor\".format(tf.rank(saludo).numpy()))\n",
        "print(\"`numero` is a {}-d Tensor\".format(tf.rank(numero).numpy()))\n",
        "\n",
        "#tensores de orden 1\n",
        "saludos= tf.constant([\"hola\",\"adios\"],tf.string)\n",
        "primos = tf.constant([2,3,5,7,11], tf.int16)\n",
        "print(\"`saludos` is a {}-d Tensor\".format(tf.rank(saludos).numpy()))\n",
        "print(\"`primos` is a {}-d Tensor\".format(tf.rank(primos).numpy()))\n",
        "\n",
        "#tensores de orden 2\n",
        "matriz = tf.constant([[3.1,8.2,5.9], [4.3, -2.7, 6.5]],tf.float64)\n",
        "print(\"`matriz` is a {}-d Tensor\".format(tf.rank(matriz).numpy()))"
      ],
      "execution_count": null,
      "outputs": [
        {
          "output_type": "stream",
          "name": "stdout",
          "text": [
            "`saludo` is a 0-d Tensor\n",
            "`numero` is a 0-d Tensor\n",
            "`saludos` is a 1-d Tensor\n",
            "`primos` is a 1-d Tensor\n",
            "`matriz` is a 2-d Tensor\n"
          ]
        }
      ]
    },
    {
      "cell_type": "code",
      "metadata": {
        "colab": {
          "base_uri": "https://localhost:8080/"
        },
        "id": "ocw4WJBig9tP",
        "outputId": "a11de4e6-a64c-4d3a-e285-0314262d9beb"
      },
      "source": [
        "tensor4 = tf.zeros ([3, 2, 4, 5])\n",
        "print(\"Tipo de cada elemento:\", tensor4.dtype)\n",
        "print(\"Número de ejes:\", tensor4.ndim)\n",
        "print(\"Forma:\", tensor4.shape)\n",
        "print(\"Elementos en el eje 0 del tensor:\", tensor4.shape[0])\n",
        "print(\"Elementos en el ultimo eje (3) del tensor:\",tensor4.shape[-1])\n",
        "print(\"Numero total de elementos (3*2*4*5): \", tf.size(tensor4))"
      ],
      "execution_count": null,
      "outputs": [
        {
          "output_type": "stream",
          "name": "stdout",
          "text": [
            "Tipo de cada elemento: <dtype: 'float32'>\n",
            "Número de ejes: 4\n",
            "Forma: (3, 2, 4, 5)\n",
            "Elementos en el eje 0 del tensor: 3\n",
            "Elementos en el ultimo eje (3) del tensor: 5\n",
            "Numero total de elementos (3*2*4*5):  tf.Tensor(120, shape=(), dtype=int32)\n"
          ]
        }
      ]
    }
  ]
}