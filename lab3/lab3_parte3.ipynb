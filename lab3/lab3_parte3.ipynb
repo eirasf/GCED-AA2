{
  "cells": [
    {
      "cell_type": "markdown",
      "metadata": {
        "id": "cptEv9q-FSZ4"
      },
      "source": [
        "[![Open In Colab](https://colab.research.google.com/assets/colab-badge.svg)](https://colab.research.google.com/github/eirasf/GCED-AA2/blob/main/lab3/lab3_parte3.ipynb)\n",
        "# Práctica 2: Redes neuronales usando Keras\n",
        "## Parte 3. El API Funcional\n",
        "\n",
        "\n",
        "## Pre-requisitos: Instalar paquetes\n",
        "\n",
        "Para esta segunda parte también necesitaremos TensorFlow 2.0 y TensorFlow-Datasets "
      ]
    },
    {
      "cell_type": "code",
      "execution_count": null,
      "metadata": {
        "id": "b1H86WkMEZLz"
      },
      "outputs": [],
      "source": [
        "import tensorflow as tf\n",
        "import tensorflow_datasets as tfds "
      ]
    },
    {
      "cell_type": "markdown",
      "metadata": {
        "id": "LYjZf1dI3sr_"
      },
      "source": [
        "Seguimos empleando el mismo conjunto de datos"
      ]
    },
    {
      "cell_type": "code",
      "execution_count": null,
      "metadata": {
        "id": "iBap6LBK30XV"
      },
      "outputs": [],
      "source": [
        "# Cargamos el conjunto de datos\n",
        "ds = tfds.load('german_credit_numeric', split='train',as_supervised=True)\n",
        "\n",
        "tamano_lote = 1000\n",
        "\n",
        "elems = ds.batch(tamano_lote)\n",
        "lote_entrenamiento = next(iter(elems))"
      ]
    },
    {
      "cell_type": "markdown",
      "metadata": {
        "id": "L_2HI_CNEcSy"
      },
      "source": [
        "En la parte anterior hemos usado el metodo keras.Sequential() para crear modelos. La API funcional es una forma de crear modelos mas dinámicos que con *Sequential*, nos permite manejar modelos:\n",
        "1. topología no lineal, \n",
        "1. modelos con capas compartidas \n",
        "1. modelos con múltiples entradas o salidas.\n",
        "\n",
        "Se basa en la idea de que un modelo de aprendizaje profundo suele ser un grafo acíclico dirigido (DAG) de capas. La API funcional es un conjunto de herramientas para construir estos grafos de capas, tiene 3 pasos:\n",
        "1. Definir una capa de entrada\n",
        "1. Conectar las capas\n",
        "1. Crear el modelo.\n",
        "\n",
        "Para ilustrarlo, vamos a considerar un modelo similar a los ya realizados, esto es, un modelo con tres capas.\n",
        "\n",
        "##Definir una capa de entrada\n",
        "A diferencia del modelo *Sequential*, debe crear y definir una capa de entrada independiente que especifique la *forma* de los datos de entrada."
      ]
    },
    {
      "cell_type": "code",
      "execution_count": null,
      "metadata": {
        "colab": {
          "base_uri": "https://localhost:8080/"
        },
        "id": "RTYLENGisrSY",
        "outputId": "21ce7275-8f36-486a-ea3e-37f3b8f5be7b"
      },
      "outputs": [
        {
          "data": {
            "text/plain": [
              "TensorShape([None, 24])"
            ]
          },
          "execution_count": 24,
          "metadata": {},
          "output_type": "execute_result"
        }
      ],
      "source": [
        "from tensorflow import keras\n",
        "\n",
        "inputs = keras.Input(shape=(24,))\n",
        "inputs.shape"
      ]
    },
    {
      "cell_type": "markdown",
      "metadata": {
        "id": "__ffV2ve4kn2"
      },
      "source": [
        "## Conectamos las capas\n",
        "\n",
        "Las capas se conectan por pares. Al crear cada capa se ha de especificar su entrada usando los paréntesis como notación. Vamos a crear una capa *Dense* que recibe como entrada *inputs*, posteriormente crearemos el resto de las capas para crear un modelo similar al visto en la parte 2 de este laboratorio."
      ]
    },
    {
      "cell_type": "code",
      "execution_count": null,
      "metadata": {
        "id": "oDk4AYcVtmPj"
      },
      "outputs": [],
      "source": [
        "from tensorflow.keras import layers\n",
        "\n",
        "h0_size = 5\n",
        "h1_size = 3\n",
        "x = layers.Dense(h0_size, activation='sigmoid')(inputs)\n",
        "#TODO - crear el resto de capas \n",
        "x = ...\n",
        "outputs = ..."
      ]
    },
    {
      "cell_type": "markdown",
      "metadata": {
        "id": "gGqI5Gn99VSP"
      },
      "source": [
        "Es esta forma de conectar capas una a una lo que le da flexibilidad a la *API funcional*. \n",
        "\n",
        "## Crear el modelo\n",
        "\n",
        "Después de crear todas las capas de su modelo y conectarlas, debe definir el modelo para ello le indicaremos las entradas (*inputs*) y salidas (*outputs*) y además también le podemos asignar un nombre al modelo (*name*).\n",
        "\n",
        "Al igual que con el modelo *Sequential*, el modelo se puede resumir (*summary*), ajustar, evaluar y usar para hacer predicciones."
      ]
    },
    {
      "cell_type": "code",
      "execution_count": null,
      "metadata": {
        "colab": {
          "base_uri": "https://localhost:8080/"
        },
        "id": "s7u9iOW99T7H",
        "outputId": "ab23ee59-55d8-47de-bdc0-40b4a7d89d7d"
      },
      "outputs": [
        {
          "name": "stdout",
          "output_type": "stream",
          "text": [
            "Model: \"credit_german_model\"\n",
            "_________________________________________________________________\n",
            "Layer (type)                 Output Shape              Param #   \n",
            "=================================================================\n",
            "input_2 (InputLayer)         [(None, 24)]              0         \n",
            "_________________________________________________________________\n",
            "dense_3 (Dense)              (None, 5)                 125       \n",
            "_________________________________________________________________\n",
            "dense_4 (Dense)              (None, 3)                 18        \n",
            "_________________________________________________________________\n",
            "dense_5 (Dense)              (None, 1)                 4         \n",
            "=================================================================\n",
            "Total params: 147\n",
            "Trainable params: 147\n",
            "Non-trainable params: 0\n",
            "_________________________________________________________________\n"
          ]
        }
      ],
      "source": [
        "#TODO- definir el modelo \n",
        "model = keras.Model(inputs=..., outputs=..., name=...)\n",
        "\n",
        "#TODO- mostrar un resumen del modelo"
      ]
    },
    {
      "cell_type": "code",
      "execution_count": null,
      "metadata": {
        "colab": {
          "base_uri": "https://localhost:8080/"
        },
        "id": "Yspapgpo_vwe",
        "outputId": "d714a2f3-5a05-449e-8ffe-f1d0d5c8378d"
      },
      "outputs": [
        {
          "name": "stdout",
          "output_type": "stream",
          "text": [
            "Epoch 1/5\n",
            "1/1 [==============================] - 0s 491ms/step - loss: 1.1068 - precision_1: 0.0000e+00\n",
            "Epoch 2/5\n",
            "1/1 [==============================] - 0s 7ms/step - loss: 1.0532 - precision_1: 0.0000e+00\n",
            "Epoch 3/5\n",
            "1/1 [==============================] - 0s 7ms/step - loss: 1.0052 - precision_1: 0.0000e+00\n",
            "Epoch 4/5\n",
            "1/1 [==============================] - 0s 4ms/step - loss: 0.9622 - precision_1: 0.0000e+00\n",
            "Epoch 5/5\n",
            "1/1 [==============================] - 0s 7ms/step - loss: 0.9239 - precision_1: 0.0000e+00\n"
          ]
        },
        {
          "data": {
            "text/plain": [
              "<keras.callbacks.History at 0x7f442f624d90>"
            ]
          },
          "execution_count": 27,
          "metadata": {},
          "output_type": "execute_result"
        }
      ],
      "source": [
        "#TODO compilar el modelo\n",
        "\n",
        "\n",
        "#TODO determinar el numero de epochs\n",
        "num_epochs =  ...\n",
        "#TODO - entrenar el modelo \n",
        "\n",
        "\n",
        "\n",
        "#TODO - evaluar el modelo\n",
        " "
      ]
    },
    {
      "cell_type": "markdown",
      "metadata": {
        "id": "jKkUXimnuX9H"
      },
      "source": [
        "Al igual que hicimos en la parte 2 de este laboratorio, también podemos mostrar el gráfico del modelo:"
      ]
    },
    {
      "cell_type": "code",
      "execution_count": null,
      "metadata": {
        "colab": {
          "base_uri": "https://localhost:8080/",
          "height": 369
        },
        "id": "exKkoDumuYmU",
        "outputId": "65ce2031-c347-4736-cb2a-b6770cec1a4d"
      },
      "outputs": [
        {
          "data": {
            "image/png": "[encoded data removed]",
            "text/plain": [
              "<IPython.core.display.Image object>"
            ]
          },
          "execution_count": 28,
          "metadata": {},
          "output_type": "execute_result"
        }
      ],
      "source": [
        "#TODO: muestra el gráfico del modelo\n"
      ]
    },
    {
      "cell_type": "markdown",
      "metadata": {
        "id": "KuyX_hhTC0xP"
      },
      "source": [
        "##Guardando un modelo\n",
        "\n",
        "Se puede guardar un modelo creado con la API funcional en un solo archivo. Posteriormente, puede volver a crear el mismo modelo a partir de este archivo, incluso si ya no tiene acceso al código que creó el modelo.\n",
        "\n",
        "Este archivo incluye:\n",
        "\n",
        "- La arquitectura del modelo\n",
        "- Los pesos del modelo (que se aprendieron durante el entrenamiento)\n",
        "- La configuración de entrenamiento del modelo (lo que pasó al 'compilar')\n",
        "- El optimizador y su estado, si corresponde (permite reiniciar el entrenamiento donde quedó)\n"
      ]
    },
    {
      "cell_type": "code",
      "execution_count": null,
      "metadata": {
        "colab": {
          "base_uri": "https://localhost:8080/"
        },
        "id": "hi1b0fABD8cv",
        "outputId": "aea6a7d9-34b3-4b27-8da7-4b9e33a6d666"
      },
      "outputs": [
        {
          "name": "stdout",
          "output_type": "stream",
          "text": [
            "INFO:tensorflow:Assets written to: functional_model.tf/assets\n"
          ]
        },
        {
          "name": "stderr",
          "output_type": "stream",
          "text": [
            "INFO:tensorflow:Assets written to: functional_model.tf/assets\n"
          ]
        },
        {
          "name": "stdout",
          "output_type": "stream",
          "text": [
            "Model: \"credit_german_model\"\n",
            "_________________________________________________________________\n",
            "Layer (type)                 Output Shape              Param #   \n",
            "=================================================================\n",
            "input_2 (InputLayer)         [(None, 24)]              0         \n",
            "_________________________________________________________________\n",
            "dense_3 (Dense)              (None, 5)                 125       \n",
            "_________________________________________________________________\n",
            "dense_4 (Dense)              (None, 3)                 18        \n",
            "_________________________________________________________________\n",
            "dense_5 (Dense)              (None, 1)                 4         \n",
            "=================================================================\n",
            "Total params: 147\n",
            "Trainable params: 147\n",
            "Non-trainable params: 0\n",
            "_________________________________________________________________\n",
            "1/1 [==============================] - 0s 234ms/step - loss: 0.8898 - precision_1: 0.0000e+00\n"
          ]
        }
      ],
      "source": [
        "# Guardar el Modelo\n",
        "model.save('functional_model.tf')\n",
        "del model\n",
        "#Si ahora intentaramos hacer algo con el modelo, este ya no existe\n",
        "#model.summary() # ValueError: NameError: name 'model' is not defined\n",
        "\n",
        "# Recrea exactamente el mismo modelo desde el archivo\n",
        "model = keras.models.load_model('functional_model.tf')\n",
        "#TODO - mostrar un resumen del modelo \n",
        "\n",
        "## Verifique que el estado esté guardado\n",
        "#TODO - evaluar el modelo\n",
        " "
      ]
    },
    {
      "cell_type": "markdown",
      "metadata": {
        "id": "3oiN-NePwv09"
      },
      "source": [
        "\n",
        "También es importante poder guardar nuestro modelo (o sus pesos) con determinada frequencia. El *Callback ModelCheckpoint* se usa junto con el entrenamiento usando *model.fit()* para guardar un modelo o sus pesos (en un fichero) en algún momento determinado, así el modelo (o los pesos) se pueden recuperar más tarde para continuar el entrenamiento.\n",
        "\n",
        "Algunos parámetros:\n",
        "1. *file_path*: ruta para guardar el fichero con el modelo.\n",
        "1. *save_best_only*: Si está a *True* guarda solo el modelo que ha logrado el \"mejor rendimiento\" hasta ahora, sino guarda el modelo al final de cada *epoch* sin importar el rendimiento. El rendimiento se evalúa en función de la métrica indicada en el parámetro *monitor*. \n",
        "1. *monitor*: el nombre de la métrica que se va a comprobar. Normalmente, las métricas se establecen mediante el método *Model.compile*.\n",
        "1. *mode*: Indicamos si el objetivo es maximizar (*max*) o minimizar (*min*) la métrica. Existe una opción *auto* que asigna automáticamente *max* o *min* a determinadas métricas.\n",
        "1. *save_freq*:  La frecuencia a la que debería guardarse. Hay dos opciones,  *save_freq=epoch* guarda al final de cada *epoch* o *save_freq* se iguala a  un número entero que indica un número fijo de lotes de entrenamiento.\n",
        "1. *save_weights_only*: Si solo se guardan los pesos o se guarda todo el modelo.\n",
        "\n",
        "Más información: https://keras.io/api/callbacks/model_checkpoint/\n"
      ]
    },
    {
      "cell_type": "code",
      "execution_count": null,
      "metadata": {
        "colab": {
          "base_uri": "https://localhost:8080/"
        },
        "id": "D80Q0AqBqoA2",
        "outputId": "ba9ecea0-ed82-40ef-997b-1cf9ff62073b"
      },
      "outputs": [
        {
          "name": "stdout",
          "output_type": "stream",
          "text": [
            "Epoch 1/10\n",
            "1/1 [==============================] - 1s 768ms/step - loss: 0.8898 - precision_1: 0.0000e+00\n",
            "Epoch 2/10\n",
            "1/1 [==============================] - 0s 5ms/step - loss: 0.8595 - precision_1: 0.0000e+00\n",
            "Epoch 3/10\n",
            "1/1 [==============================] - 0s 5ms/step - loss: 0.8325 - precision_1: 0.0000e+00\n",
            "Epoch 4/10\n",
            "1/1 [==============================] - 0s 7ms/step - loss: 0.8086 - precision_1: 0.0000e+00\n",
            "Epoch 5/10\n",
            "1/1 [==============================] - 0s 8ms/step - loss: 0.7874 - precision_1: 0.0000e+00\n",
            "Epoch 6/10\n",
            "1/1 [==============================] - 0s 9ms/step - loss: 0.7685 - precision_1: 0.0000e+00\n",
            "Epoch 7/10\n",
            "1/1 [==============================] - 0s 5ms/step - loss: 0.7518 - precision_1: 0.0000e+00\n",
            "Epoch 8/10\n",
            "1/1 [==============================] - 0s 5ms/step - loss: 0.7369 - precision_1: 0.0000e+00\n",
            "Epoch 9/10\n",
            "1/1 [==============================] - 0s 4ms/step - loss: 0.7237 - precision_1: 0.0000e+00\n",
            "Epoch 10/10\n",
            "1/1 [==============================] - 0s 4ms/step - loss: 0.7120 - precision_1: 0.0000e+00\n"
          ]
        },
        {
          "data": {
            "text/plain": [
              "<tensorflow.python.training.tracking.util.CheckpointLoadStatus at 0x7f4483919890>"
            ]
          },
          "execution_count": 30,
          "metadata": {},
          "output_type": "execute_result"
        }
      ],
      "source": [
        "#TODO - indica una ruta para guardar el modelo\n",
        "checkpoint_filepath = ...\n",
        "#TODO - configura los distintos parámetros del ModelCheckpoint\n",
        "model_checkpoint_callback = tf.keras.callbacks.ModelCheckpoint(\n",
        "    .....\n",
        ")\n",
        "\n",
        "#  Los pesos del modelo se guardan al final de cada epoch, si es el mejor hasta el momento.\n",
        "#TODO completa los parámetros para el entrenamiento\n",
        "model.fit(...., callbacks=[model_checkpoint_callback])\n",
        "\n",
        "# Recuperamos los mejores pesos del modelo\n",
        "model.load_weights(checkpoint_filepath)"
      ]
    }
  ],
  "metadata": {
    "colab": {
      "collapsed_sections": [],
      "name": "Laboratorio3_parte3.ipynb",
      "provenance": []
    },
    "kernelspec": {
      "display_name": "Python 3",
      "name": "python3"
    },
    "language_info": {
      "name": "python"
    }
  },
  "nbformat": 4,
  "nbformat_minor": 0
}
