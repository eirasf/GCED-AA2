{
  "cells": [
    {
      "cell_type": "markdown",
      "metadata": {
        "id": "rY0wXimFDpyK"
      },
      "source": [
        "[![Open In Colab](https://colab.research.google.com/assets/colab-badge.svg)](https://colab.research.google.com/github/eirasf/GCED-AA2/blob/main/lab1/4_Numpy.ipynb)"
      ]
    },
    {
      "cell_type": "code",
      "execution_count": null,
      "metadata": {
        "id": "RG8Hyj5UFWxi"
      },
      "outputs": [],
      "source": [
        "import numpy as np\n",
        "import torch\n",
        "\n",
        "np_array = np.array([1, 2, 3], dtype=np.float32)\n",
        "\n",
        "# Opción 1: comparte memoria\n",
        "t1 = torch.from_numpy(np_array)\n",
        "# Opción 2: hace copia\n",
        "t2 = torch.tensor(np_array)\n",
        "\n",
        "# Cambiamos el NumPy\n",
        "np_array[0] = 99\n",
        "print(t1)  # tensor([99.,  2.,  3.])  <-- se actualiza\n",
        "print(t2)  # tensor([1., 2., 3.])     <-- no cambia"
      ]
    }
  ],
  "metadata": {
    "colab": {
      "name": "4_Numpy.ipynb",
      "provenance": []
    },
    "kernelspec": {
      "display_name": "aa2-torch",
      "language": "python",
      "name": "python3"
    },
    "language_info": {
      "name": "python",
      "version": "3.13.7"
    }
  },
  "nbformat": 4,
  "nbformat_minor": 0
}
