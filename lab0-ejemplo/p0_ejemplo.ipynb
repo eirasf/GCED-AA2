{
 "cells": [
  {
   "cell_type": "markdown",
   "metadata": {
    "id": "57knM8jrYZ2t"
   },
   "source": [
    "[![Open In Colab](https://colab.research.google.com/assets/colab-badge.svg)](https://github.com/eirasf/GCED-AA2/blob/main/lab0-ejemplo/p0_ejemplo.ipynb)\n",
    "\n",
    "# Práctica 0: Ejemplo\n",
    "\n",
    "Este es un ejemplo de cómo se puede estructurar una práctica de la asignatura\n",
    "\n",
    "\n",
    "# Pre-requisitos\n",
    "\n",
    "## Instalar paquetes\n",
    "\n",
    "Si la práctica requiere algún paquete de Python, habrá que incluir una celda en la que se instalen. Si usamos un paquete que se ha utilizado en prácticas anteriores, podríamos dar por supuesto que está instalado pero no cuesta nada satisfacer todas las dependencias en la propia práctica para reducir las dependencias entre ellas."
   ]
  },
  {
   "cell_type": "code",
   "execution_count": null,
   "metadata": {
    "id": "LkaimNJfYZ2w"
   },
   "outputs": [],
   "source": [
    "# Ejemplo de instalación de tensorflow 2.0\n",
    "#%tensorflow_version 2.x\n",
    "!pip3 install tensorflow\n",
    "import tensorflow as tf\n",
    "\n",
    "# También se puede importar la librería de la asignatura, donde se implementan funciones auxiliares que no es necesario que los alumnos examinen\n",
    "#!pip3 install udc_gced_aa2\n",
    "#import udc_gced_aa2 as aa2\n",
    "import libp0 as aa2\n",
    "\n",
    "# Hacemos los imports que sean necesarios\n",
    "import numpy as np\n",
    "import matplotlib.pyplot as plt"
   ]
  },
  {
   "cell_type": "markdown",
   "metadata": {
    "id": "2QNMcdP4m3Vs"
   },
   "source": [
    "## Parte 1: Cosas de la práctica\n",
    "\n",
    "Aquí se le puede explicar lo que se quiera antes de que tengan que ejecutar código. Podemos insertar imágenes con el siguiente comando (también disponible en Edit->Insert Image):\n",
    "![img/logo-udc.png](./img/logo-udc.png)\n",
    "\n",
    "En las celdas de código les podemos dejar simplemente código que haga algo y que solo tengan que ejecutar o bien ponerles algo que hacer, indicando con un #TODO en el código dónde deben completar.\n",
    "\n",
    "Completa el siguiente #TODO para que imprima el número 4"
   ]
  },
  {
   "cell_type": "code",
   "execution_count": null,
   "metadata": {
    "id": "tFxztZQInlAB"
   },
   "outputs": [],
   "source": [
    "print(1)\n",
    "print(2)\n",
    "print(3)\n",
    "#TODO: Imprimir el número 4\n",
    "\n",
    "print(5)\n",
    "\n"
   ]
  },
  {
   "cell_type": "markdown",
   "metadata": {
    "id": "wkaCDOGapMyl"
   },
   "source": [
    "En las explicaciones, podemos usar la sintaxis de triples comillas para ```destacar``` alguna palabra."
   ]
  },
  {
   "cell_type": "code",
   "execution_count": null,
   "metadata": {},
   "outputs": [],
   "source": [
    "# Desde las celdas de código podemos hacer uso de las funciones auxiliares de la práctica, que se han declarado en el fichero libp0.py, importado en la celda 4\n",
    "print(aa2.funcion_ejemplo(2))"
   ]
  },
  {
   "cell_type": "code",
   "execution_count": null,
   "metadata": {},
   "outputs": [],
   "source": []
  }
 ],
 "metadata": {
  "accelerator": "GPU",
  "colab": {
   "collapsed_sections": [
    "WBk0ZDWY-ff8"
   ],
   "name": "Part1_TensorFlow.ipynb",
   "provenance": []
  },
  "kernelspec": {
   "display_name": "Python 3 (ipykernel)",
   "language": "python",
   "name": "python3"
  },
  "language_info": {
   "codemirror_mode": {
    "name": "ipython",
    "version": 3
   },
   "file_extension": ".py",
   "mimetype": "text/x-python",
   "name": "python",
   "nbconvert_exporter": "python",
   "pygments_lexer": "ipython3",
   "version": "3.9.6"
  }
 },
 "nbformat": 4,
 "nbformat_minor": 1
}
