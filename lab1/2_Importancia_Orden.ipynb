{
  "nbformat": 4,
  "nbformat_minor": 0,
  "metadata": {
    "colab": {
      "name": "2_Importancia_Orden.ipynb",
      "provenance": []
    },
    "kernelspec": {
      "name": "python3",
      "display_name": "Python 3"
    },
    "language_info": {
      "name": "python"
    }
  },
  "cells": [
    {
      "cell_type": "markdown",
      "metadata": {
        "id": "72Eat9IuCxLt"
      },
      "source": [
        "[![Open In Colab](https://colab.research.google.com/assets/colab-badge.svg)](https://colab.research.google.com/github/eirasf/GCED-AA2/blob/main/lab1/2_Importancia_Orden.ipynb)"
      ]
    },
    {
      "cell_type": "code",
      "metadata": {
        "id": "r2T2I17zb2WT"
      },
      "source": [
        "import numpy as np\n",
        "def calcular_cuadrado(x):\n",
        "  return x*x"
      ],
      "execution_count": null,
      "outputs": []
    },
    {
      "cell_type": "code",
      "metadata": {
        "id": "wrxo9SY9b7yk"
      },
      "source": [
        "x=np.random.randint(1,11)\n",
        "y=calcular_cuadrado(x)"
      ],
      "execution_count": null,
      "outputs": []
    },
    {
      "cell_type": "code",
      "metadata": {
        "colab": {
          "base_uri": "https://localhost:8080/"
        },
        "id": "zuU4aI4Hcu9Q",
        "outputId": "6e3429ce-532c-4201-b796-c186175d8023"
      },
      "source": [
        "print(\"El resultado de elevar \", x, \"al cuadrado es\", y )"
      ],
      "execution_count": null,
      "outputs": [
        {
          "output_type": "stream",
          "name": "stdout",
          "text": [
            "El resultado de elevar  9 al cuadrado es 3\n"
          ]
        }
      ]
    },
    {
      "cell_type": "markdown",
      "metadata": {
        "id": "ufxQDfA_sFzl"
      },
      "source": [
        "Hay que tener cuidado al \"reejecutar\" celdas porque los resultados pueden ser incorrectos "
      ]
    },
    {
      "cell_type": "code",
      "metadata": {
        "id": "Y6BktMrQcR3h"
      },
      "source": [
        "y=3"
      ],
      "execution_count": null,
      "outputs": []
    }
  ]
}