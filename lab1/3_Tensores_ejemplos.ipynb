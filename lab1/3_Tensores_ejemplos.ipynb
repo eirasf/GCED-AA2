{
  "cells": [
    {
      "cell_type": "markdown",
      "metadata": {
        "id": "OqpKF1aT39go"
      },
      "source": [
        "[![Open In Colab](https://colab.research.google.com/assets/colab-badge.svg)](https://colab.research.google.com/github/eirasf/GCED-AA2/blob/main/lab1/3_Tensores_ejemplos.ipynb)"
      ]
    },
    {
      "cell_type": "code",
      "execution_count": null,
      "metadata": {
        "colab": {
          "base_uri": "https://localhost:8080/"
        },
        "id": "bl-cUrhK0g_T",
        "outputId": "abfbf604-18de-4f4a-a0f8-0fee4bd6c9e9"
      },
      "outputs": [],
      "source": [
        "import torch\n",
        "\n",
        "# tensores de orden 0 (escalares)\n",
        "numero = torch.tensor(5, dtype=torch.int16)\n",
        "print(\"`numero` is a {}-d Tensor\".format(numero.ndim))\n",
        "\n",
        "# tensores de orden 1\n",
        "primos = torch.tensor([2, 3, 5, 7, 11], dtype=torch.int16)\n",
        "print(\"`primos` is a {}-d Tensor\".format(primos.ndim))\n",
        "\n",
        "# tensores de orden 2 (matrices)\n",
        "matriz = torch.tensor([[3.1, 8.2, 5.9], [4.3, -2.7, 6.5]], dtype=torch.float64)\n",
        "print(\"`matriz` is a {}-d Tensor\".format(matriz.ndim))\n"
      ]
    },
    {
      "cell_type": "code",
      "execution_count": null,
      "metadata": {
        "colab": {
          "base_uri": "https://localhost:8080/"
        },
        "id": "ocw4WJBig9tP",
        "outputId": "a11de4e6-a64c-4d3a-e285-0314262d9beb"
      },
      "outputs": [],
      "source": [
        "tensor4 = torch.zeros ([3, 2, 4, 5])\n",
        "print(\"Tipo de cada elemento:\", tensor4.dtype)\n",
        "print(\"Número de ejes:\", tensor4.ndim)\n",
        "print(\"Forma:\", tensor4.shape)\n",
        "print(\"Elementos en el eje 0 del tensor:\", tensor4.shape[0])\n",
        "print(\"Elementos en el ultimo eje (3) del tensor:\",tensor4.shape[-1])\n",
        "print(\"Numero total de elementos (3*2*4*5): \", tensor4.numel())"
      ]
    }
  ],
  "metadata": {
    "colab": {
      "name": "3_Tensores_ejemplos.ipynb",
      "provenance": []
    },
    "kernelspec": {
      "display_name": "aa2-torch",
      "language": "python",
      "name": "python3"
    },
    "language_info": {
      "codemirror_mode": {
        "name": "ipython",
        "version": 3
      },
      "file_extension": ".py",
      "mimetype": "text/x-python",
      "name": "python",
      "nbconvert_exporter": "python",
      "pygments_lexer": "ipython3",
      "version": "3.13.7"
    }
  },
  "nbformat": 4,
  "nbformat_minor": 0
}
