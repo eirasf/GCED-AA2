{
 "cells": [
  {
   "cell_type": "markdown",
   "metadata": {
    "id": "1GxLyX9vdCnf"
   },
   "source": [
    "[![Open In Colab](https://colab.research.google.com/assets/colab-badge.svg)](https://colab.research.google.com/github/eirasf/GCED-AA2/blob/main/lab8/lab8.ipynb)\n",
    "# Práctica 7: Residual neural networks\n"
   ]
  },
  {
   "cell_type": "markdown",
   "metadata": {
    "id": "4zjhho6Jb6-j"
   },
   "source": [
    "### Pre-requisitos. Instalar paquetes\n",
    "\n",
    "Para la primera parte de este Laboratorio 8 necesitaremos torch. Además, como habitualmente, fijaremos la semilla aleatoria para asegurar la reproducibilidad de los experimentos."
   ]
  },
  {
   "cell_type": "code",
   "execution_count": 1,
   "metadata": {
    "id": "wjX2mh1-GSga"
   },
   "outputs": [],
   "source": [
    "import torch\n",
    "\n",
    "#Fijamos la semilla para poder reproducir los resultados\n",
    "import os\n",
    "import numpy as np\n",
    "import random\n",
    "seed=1234\n",
    "os.environ['PYTHONHASHSEED']=str(seed)\n",
    "torch.manual_seed(seed)\n",
    "np.random.seed(seed)\n",
    "random.seed(seed)"
   ]
  },
  {
   "cell_type": "markdown",
   "metadata": {
    "id": "xd9GpQD5WVY4"
   },
   "source": [
    "### Carga del conjunto de datos\n",
    "\n",
    "De nuevo, seguimos empleando el conjunto *Titanic* ya empleado en los laboratorios anteriores.\n"
   ]
  },
  {
   "cell_type": "code",
   "execution_count": null,
   "metadata": {
    "id": "gpsZlN_mEj7D"
   },
   "outputs": [],
   "source": [
    "# TODO - Carga el conjunto Titanic. No es necesario hacer particiones, pero asegúrate de que las\n",
    "# variables estén en la escala apropiada\n"
   ]
  },
  {
   "cell_type": "markdown",
   "metadata": {},
   "source": [
    "## Visualización del desvanecimiento del gradiente\n",
    "Las Residual neural networks se ocupan de que los gradientes no se desvanezcan cuando la red es muy profunda. Vamos a visualizar este problema creando una red profunda y mostrando las dimensiones de los gradientes que llegan a cada capa.\n",
    "\n",
    "### Creamos un modelo *Sequential*\n",
    "Creamos un modelo *Sequential* para ajustar a los datos de entrada siguiendo las especificaciones dadas."
   ]
  },
  {
   "cell_type": "code",
   "execution_count": null,
   "metadata": {
    "colab": {
     "base_uri": "https://localhost:8080/"
    },
    "id": "KrIOT-4DmRuu",
    "outputId": "79dba569-e5e5-426f-9a87-57757db7d363"
   },
   "outputs": [],
   "source": [
    "# TODO - Define en model una red MLP con 20 capas ocultas, con activación sigmoide, con 10 unidades por capa.\n",
    "import torch.nn as nn\n",
    "\n",
    "class MLP(nn.Module):\n",
    "    def __init__(self, input_dim, output_dim, num_hidden_layers = 20, hidden_units = 10, activation=nn.Sigmoid()):\n",
    "        super(MLP, self).__init__()\n",
    "        \n",
    "        # TODO - Completa la clase"
   ]
  },
  {
   "cell_type": "markdown",
   "metadata": {
    "id": "ZNSojR94dP3y"
   },
   "source": [
    "### Entrenamiento del modelo\n",
    "Entrena el modelo durante 10 epochs. En el bucle de entrenamiento, guarda en un diccionario con el formato mostrado el histórico de gradientes de cada capa."
   ]
  },
  {
   "cell_type": "code",
   "execution_count": null,
   "metadata": {},
   "outputs": [],
   "source": [
    "# TODO - Entrena el modelo durante 10 epochs\n",
    "# Cambia tu train step guardar los gradientes en un diccionario con este formato:\n",
    "# g_hist = {name: [] for name, param in model.named_parameters() if 'weight' in name}\n",
    "# Por cada parámetro que se llame weight (ignoraremos los bias en este ejercicio),\n",
    "# guardaremos una lista con un valor por cada epoch. En la lista de cada parámetro,\n",
    "# debes guardar la media de las normas de los gradientes de ese parámetro durante\n",
    "# los pasos de cada epoch.\n",
    "# Para calcular la norma del gradiente de un parámetro puedes usar:\n",
    "# torch.norm(param.grad.detach()))\n"
   ]
  },
  {
   "cell_type": "markdown",
   "metadata": {
    "id": "Pcjua_KlWymG"
   },
   "source": [
    "Ahora que hemos hecho algunos pasos de entrenamiento, representamos el tamaño medio de los pesos de cada capa."
   ]
  },
  {
   "cell_type": "code",
   "execution_count": 5,
   "metadata": {},
   "outputs": [
    {
     "data": {
      "image/png": "[encoded data removed]",
      "text/plain": [
       "<Figure size 800x480 with 1 Axes>"
      ]
     },
     "metadata": {},
     "output_type": "display_data"
    }
   ],
   "source": [
    "from matplotlib import pyplot as plt\n",
    "# Ahora accedemos al historial de gradientes y representamos el tamaño medio de los gradientes de cada capa.\n",
    "plt.figure(figsize=(10, 6), dpi=80)\n",
    "plt.boxplot(g_hist.values())\n",
    "plt.yscale('log')\n",
    "plt.xticks(ticks=range(1,len(g_hist)+1), labels=[f'h{int(k.split('.')[1])//2}' for k in g_hist.keys()])\n",
    "plt.show()"
   ]
  },
  {
   "cell_type": "markdown",
   "metadata": {},
   "source": [
    "## Comparativa\n",
    " - ¿Qué observas en los pesos?\n",
    " - ¿Ocurre lo mismo utilizando ReLU como función de activación de las capas ocultas?\n",
    " - Repite la prueba con las distintas [funciones de activación](https://docs.pytorch.org/docs/stable/nn.html#non-linear-activations-weighted-sum-nonlinearity) que tengan sentido.\n",
    " - Prueba a utilizar He initialization para tus capas Dense (ver código en la celda siguiente)\n",
    " - (OPCIONAL) Alarga el entrenamiento y prueba distintos optimizadores para intentar que el modelo entrene correctamente."
   ]
  },
  {
   "cell_type": "code",
   "execution_count": null,
   "metadata": {},
   "outputs": [],
   "source": [
    "# Ejemplo de He initialization\n",
    "# for layer in self.model:\n",
    "#     if isinstance(layer, nn.Linear):\n",
    "#         nn.init.kaiming_uniform_(layer.weight, nonlinearity='relu')\n",
    "#         nn.init.zeros_(layer.bias)"
   ]
  },
  {
   "cell_type": "code",
   "execution_count": null,
   "metadata": {},
   "outputs": [
    {
     "data": {
      "image/png": "[encoded data removed]",
      "text/plain": [
       "<Figure size 800x480 with 1 Axes>"
      ]
     },
     "metadata": {},
     "output_type": "display_data"
    }
   ],
   "source": [
    "# Abajo se muestra el resultado con ReLU y He initialization"
   ]
  },
  {
   "cell_type": "markdown",
   "metadata": {},
   "source": [
    "---\n",
    "# Parte 2\n",
    "\n",
    "### Creación del bloque con conexión residual\n",
    "\n",
    "En una red neuronal *feed-forward* convencional, la salida de cada capa se utiliza como entrada de las capa siguiente.\n",
    "\n",
    "<img src=\"./img/resnet.png\" alt=\"Dos capas en una red FF\" width=\"400\"/>\n",
    "\n",
    "En contraste, en una ResNet se introducen bloques que incluyen conexiones residuales con el objetivo de favorecer la propagación de los gradientes.\n",
    "\n",
    "<img src=\"./img/resnet-2.png\" alt=\"Dos capas en una red FF con conexión residual\" width=\"400\"/>\n",
    "\n",
    "A pesar de que las ResNet se suelen utilizar con redes convolucionales, en este Laboratorio utilizaremos una red *feed-forward*.\n",
    "\n",
    "Para poder utilizar este tipo de bloques en nuestra arquitectura definiremos un nuevo tipo de modelo denominado `BlockWithSkipConnection` que consistirá en lo representado en la imagen:\n",
    " - Una primera capa con activación, cuya salida sirve de entrada a...\n",
    " - Una segunda capa lineal (sin activación), cuya salida sirve de entrada a...\n",
    " - A una operación suma que la añade a la entrada original a la primera capa. La salida de esta suma servirá de entrada a...\n",
    " - Una función de activación, cuya salida será la salida del bloque.\n",
    "\n",
    "Utilizaremos la función sigmoide como función de activación en ambos casos. La entrada y la salida del bloque deberán tener la misma dimensión para que se pueda realizar la suma. Por simplicidad, mantendremos la salida de la primera capa con la misma dimensión."
   ]
  },
  {
   "cell_type": "code",
   "execution_count": null,
   "metadata": {},
   "outputs": [],
   "source": [
    "class BlockWithSkipConnection(nn.Module):\n",
    "    def __init__(self, dim, outer_activation = nn.Sigmoid(), inner_activation = nn.Sigmoid()):\n",
    "        super(BlockWithSkipConnection, self).__init__()\n",
    "        # TODO - Completa la clase"
   ]
  },
  {
   "cell_type": "markdown",
   "metadata": {},
   "source": [
    "## Creamos un modelo utilizando los nuevos bloques\n",
    "Creamos un modelo *MLPWithSkipConnections* para ajustar a los datos de entrada siguiendo las especificaciones dadas. Deberá incluir una capa de entrada de 10 unidades con activación sigmoide, 10 de los nuevos bloques y la capa de salida apropiada."
   ]
  },
  {
   "cell_type": "code",
   "execution_count": null,
   "metadata": {},
   "outputs": [],
   "source": [
    "class MLPWithSkipConnections(nn.Module):\n",
    "    def __init__(self, input_dim, output_dim, num_blocks = 10, hidden_units = 10, activation = nn.Sigmoid()):\n",
    "        super(MLPWithSkipConnections, self).__init__()\n",
    "        # TODO - Completa la clase"
   ]
  },
  {
   "cell_type": "code",
   "execution_count": null,
   "metadata": {},
   "outputs": [
    {
     "name": "stdout",
     "output_type": "stream",
     "text": [
      "0/10:\tLoss:0.6992\n",
      "1/10:\tLoss:0.6962\n",
      "2/10:\tLoss:0.6931\n",
      "3/10:\tLoss:0.69\n",
      "4/10:\tLoss:0.6882\n",
      "5/10:\tLoss:0.6852\n",
      "6/10:\tLoss:0.6846\n",
      "7/10:\tLoss:0.6812\n",
      "8/10:\tLoss:0.6805\n",
      "9/10:\tLoss:0.6793\n"
     ]
    },
    {
     "data": {
      "image/png": "[encoded data removed]",
      "text/plain": [
       "<Figure size 800x480 with 1 Axes>"
      ]
     },
     "metadata": {},
     "output_type": "display_data"
    }
   ],
   "source": [
    "# TODO - Entrena el modelo guardando en g_hist el histórico de gradientes\n",
    "\n",
    "# Ahora accedemos al historial de gradientes y representamos el tamaño medio de los gradientes de cada capa.\n",
    "plt.figure(figsize=(10, 6), dpi=80)\n",
    "plt.boxplot(g_hist.values())\n",
    "plt.yscale('log')\n",
    "plt.xticks(ticks=range(1,len(g_hist)+1), labels=[f'h{int(k.split('.')[1])//2}' for k in g_hist.keys()])\n",
    "plt.show()"
   ]
  },
  {
   "cell_type": "markdown",
   "metadata": {},
   "source": [
    "## Comparativa\n",
    " - Contrasta los resultados con los obtenidos en la primera parte\n",
    " - Cambia las activaciones del exteriores del bloque y de la primera capa oculta de la red a ReLU y observa la diferencia.\n",
    " - Alarga el entrenamiento y prueba distintos optimizadores para intentar que el modelo entrene correctamente."
   ]
  }
 ],
 "metadata": {
  "colab": {
   "collapsed_sections": [],
   "name": "Lab4_parte1.ipynb",
   "provenance": []
  },
  "kernelspec": {
   "display_name": "aa2-torch",
   "language": "python",
   "name": "python3"
  },
  "language_info": {
   "codemirror_mode": {
    "name": "ipython",
    "version": 3
   },
   "file_extension": ".py",
   "mimetype": "text/x-python",
   "name": "python",
   "nbconvert_exporter": "python",
   "pygments_lexer": "ipython3",
   "version": "3.13.7"
  }
 },
 "nbformat": 4,
 "nbformat_minor": 1
}
