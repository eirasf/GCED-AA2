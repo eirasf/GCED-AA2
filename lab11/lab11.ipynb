{
 "cells": [
  {
   "cell_type": "markdown",
   "metadata": {
    "id": "tI5d58Tw0psN"
   },
   "source": [
    "[![Open In Colab](https://colab.research.google.com/assets/colab-badge.svg)](https://colab.research.google.com/github/eirasf/GCED-AA2/blob/main/lab11/lab11.ipynb)\n",
    "\n",
    "# Práctica 11: Modelos gráficos probabilísticos\n",
    "En esta práctica desarrollaremos código en Python para representar **Redes bayesianas**. Podremos almacenar modelos, aprenderlos por *MLE (maximum likelihood estimation)* y utilizarlos para hacer inferencias.\n",
    "\n",
    "## Representación de las variables\n",
    "Los modelos trabajarán exclusivamente con variables categóricas. Para representar dichas variables crearemos una clase que almacene el nombre de una variable y sus valores posibles.\n",
    "\n",
    "Incluiremos también un método que nos permita codificar cada valor posible con un número entero."
   ]
  },
  {
   "cell_type": "code",
   "execution_count": null,
   "metadata": {
    "id": "4vtFwGDA0m-y"
   },
   "outputs": [],
   "source": [
    "class Variable:\n",
    "  def __init__(self, nombre, valores):\n",
    "    self.nombre = nombre\n",
    "    self.valores = valores\n",
    "\n",
    "  def codifica(self, valor):\n",
    "    #TODO: Completa el método\n",
    "    return ...\n",
    "\n",
    "  def __str__(self):\n",
    "    return f'Variable: {self.nombre} ({\"|\".join(self.valores)})'\n",
    "\n",
    "# Comprobaciones\n",
    "#TODO: Crea una variable estatura con los valores posibles: baja, media, alta\n",
    "var_estatura = ...\n",
    "assert(var_estatura.codifica('media')==1)"
   ]
  },
  {
   "cell_type": "markdown",
   "metadata": {
    "id": "nGDELxAn2pw8"
   },
   "source": [
    "## El grafo\n",
    "Las redes bayesianas con **grafos dirigidos acíclicos** cuyos nodos representan a las variables abarcadas por el modelo.\n",
    "\n",
    "### Nodos\n",
    "Representaremos estos nodos con la clase Nodo, que registrarán la variable que representan y tendrán dos lista, una de nodos hijos y otra de nodos padres.\n",
    "\n",
    "Además los nodos tendrán un método para indicar si el nodo es raíz, es decir, no tiene padres."
   ]
  },
  {
   "cell_type": "code",
   "execution_count": null,
   "metadata": {
    "colab": {
     "base_uri": "https://localhost:8080/"
    },
    "id": "Vu_Ijybh3syM",
    "outputId": "72d46134-cba1-4827-9696-8810e1827399"
   },
   "outputs": [],
   "source": [
    "class Nodo:\n",
    "  def __init__(self, variable):\n",
    "    self.variable = variable\n",
    "    self.padres = []\n",
    "    self.hijos = []\n",
    "\n",
    "  def añade_padre(self, p):\n",
    "    #TODO: Completa el método\n",
    "    ...\n",
    "\n",
    "  def añade_hijo(self, p):\n",
    "    #TODO: Completa el método\n",
    "    ...\n",
    "\n",
    "  def es_raiz(self):\n",
    "    #TODO: Completa el método\n",
    "    ...\n",
    "\n",
    "  def __str__(self):\n",
    "    r = f'Nodo: {self.variable.nombre}'\n",
    "    r += ' P:['+' & '.join(map(lambda x: x.variable.nombre,self.padres))+']'\n",
    "    r += ' H:['+' & '.join(map(lambda x: x.variable.nombre,self.hijos))+']'\n",
    "    return r\n",
    "\n",
    "# Comprobaciones\n",
    "nodo_estatura = Nodo(var_estatura)\n",
    "print(nodo_estatura)\n",
    "assert(nodo_estatura.es_raiz())"
   ]
  },
  {
   "cell_type": "markdown",
   "metadata": {
    "id": "3ktKEdCP4LQJ"
   },
   "source": [
    "### Representando el grafo dirigido\n",
    "Para representar el grafo tendremos la clase Grafo, que simplemente será una lista de nodos (debidamente enlazados entre sí). Un grafo se creará a partir de una lista de variables y una lista de aristas (tuplas (variable_origen, variable_destino)).\n",
    "\n",
    "Completa el código para representar el siguiente grafo.\n",
    "\n",
    "<img src=\"./img/grafo.png\" alt=\"Grafo a representar\" width=\"700\"/>"
   ]
  },
  {
   "cell_type": "code",
   "execution_count": null,
   "metadata": {
    "colab": {
     "base_uri": "https://localhost:8080/"
    },
    "id": "9FjFZeYz6Dqp",
    "outputId": "16f6759b-9ff3-4725-f8fc-f4dd74951a64"
   },
   "outputs": [],
   "source": [
    "class Grafo:\n",
    "  def __init__(self, variables, aristas):\n",
    "    self.nodos = [Nodo(var) for var in variables]\n",
    "\n",
    "    # Diccionario auxiliar para poder referirnos a los nodos solo con el nombre\n",
    "    # de la variable (sin tener que buscarlos en la lista)\n",
    "    dic_nodos = {nodo.variable.nombre:nodo for nodo in self.nodos}\n",
    "    for inicio,fin in aristas:\n",
    "      #TODO: Representa la arista añadiendo padres/hijos a los nodos\n",
    "      ...\n",
    "\n",
    "  def imprime(self):\n",
    "    for nodo in self.nodos:\n",
    "      print(nodo)\n",
    "\n",
    "\n",
    "var_alimentacion = Variable('alimentación',['mala','buena'])\n",
    "var_peso = Variable('peso',['bajo','alto'])\n",
    "var_bmi = Variable('BMI',['bajo','alto'])\n",
    "#TODO: Declara el grafo pedido\n",
    "grafo_est = ...\n",
    "\n",
    "# Comprobaciones - Verifica que el grafo está bien representado\n",
    "grafo_est.imprime()"
   ]
  },
  {
   "cell_type": "markdown",
   "metadata": {
    "id": "y80Hk4QC79Yh"
   },
   "source": [
    "## Distribuciones (condicionadas) de probabilidad\n",
    "Para que el grafo constituya una red bayesiana, cada nodo debe ir acompañado de una **distribución de probabilidad** de la variable $X$ que representa (condicionada a las variables de sus nodos padres, si los hubiese):\n",
    "\n",
    "$$P(X_i | padres(X_i))$$\n",
    "\n",
    "Estas distribuciones de probabilidad contendrán parámetros que nos indicarán la probabilidad de que la variable $X$ tome un valor concreto dados los valores de cada uno de sus padres. Necesitaremos representar estas distribuciones de probabilidad, así que para ello declararemos la clase CPD. Esta clase almacenará:\n",
    "1. La variable que representa\n",
    "1. La lista de variables condicionantes\n",
    "1. Los parámetros de la CPD. Los almacenaremos en una tabla que tendrá una fila por cada valor de $X$ y una fila por cada combinación de valores de las variables condicionantes (como en el siguiente ejemplo).\n",
    "\n",
    "<img src=\"./img/cpd.png\" alt=\"Ejemplo CPD\" width=\"400\"/>\n",
    "\n",
    "Habrá dos maneras de inicializar los parámetros: o bien recibiendo un Numpy array de las dimensiones apropiadas, o bien inicializándolos todos a 0 (este será el comportamiento por defecto).\n",
    "\n",
    "Por último, incluiremos un método que dado una fila con datos que contenga valores para las variables involucradas en esta CPD devuelva el valor de probabilidad correspondiente."
   ]
  },
  {
   "cell_type": "code",
   "execution_count": null,
   "metadata": {
    "id": "LVKqx7iq9_VZ"
   },
   "outputs": [],
   "source": [
    "import numpy as np\n",
    "import pandas as pd\n",
    "\n",
    "class CPD:\n",
    "  def __init__(self, var, vars_condicion, valores = None):\n",
    "    self.variable = var\n",
    "    self.variables_condicion = vars_condicion\n",
    "\n",
    "    #TODO: Calcula las dimensiones de la matriz de parámetros\n",
    "    dimensiones = ...\n",
    "    if valores is not None and valores.shape==dimensiones:\n",
    "      self.cpd = valores\n",
    "    else:\n",
    "      #TODO: Inicializa la matriz de parámetros\n",
    "      self.cpd = ...\n",
    "  \n",
    "  def get_prob(self, data):\n",
    "    #TODO: Devuelve el valor correcto (aprovecha los dos métodos auxiliares siguientes)\n",
    "    return ...\n",
    "\n",
    "  def get_indice_columna(self, data):\n",
    "    '''\n",
    "    Dado un elemento con valores para las variables involucradas\n",
    "    devuelve el índice de la columna correspondiente en la matriz de parámetros\n",
    "    '''\n",
    "    return self.variable.codifica(data[self.variable.nombre])\n",
    "\n",
    "  def get_indice_fila(self, data):\n",
    "    '''\n",
    "    Dado un elemento con valores para las variables involucradas\n",
    "    devuelve el índice de la columna correspondiente en la matriz de parámetros\n",
    "    '''\n",
    "    parents_index = 0\n",
    "    tam_bloque = 1\n",
    "    for v in self.variables_condicion:\n",
    "      parents_index += tam_bloque*v.codifica(data[v.nombre])\n",
    "      tam_bloque *= len(v.valores)\n",
    "    return parents_index\n",
    "\n",
    "  def __str__(self):\n",
    "    '''\n",
    "    Método auxiliar para imprimir la CPD formateada\n",
    "    '''\n",
    "    df = pd.DataFrame(self.cpd, columns=self.variable.valores)\n",
    "    cond = ''\n",
    "    if len(self.variables_condicion)>0:\n",
    "      cond = '|' + ','.join(map(lambda x:x.nombre, self.variables_condicion))\n",
    "    df.insert(loc=0,column=f'P({self.variable.nombre}{cond})', value=self.nombra_filas())\n",
    "    return df.to_string(index=False)\n",
    "\n",
    "  def nombra_filas(self):\n",
    "    '''\n",
    "    Método auxiliar para nombrar las filas de la matriz de parámetros\n",
    "    '''\n",
    "    nombres = ['']\n",
    "    for v in self.variables_condicion:\n",
    "      nombres_original = nombres\n",
    "      nombres = []\n",
    "      for val in v.valores:\n",
    "        nombres += [val+','+n for n in nombres_original]\n",
    "    return nombres\n",
    "\n",
    "# Comprobaciones\n",
    "cpd_peso = CPD(var_peso, [var_estatura, var_alimentacion])\n",
    "assert(cpd_peso.get_prob({'estatura':'baja', 'alimentación':'buena', 'peso':'bajo'})==0)\n",
    "cpd_peso = CPD(var_peso, [var_estatura, var_alimentacion], np.array([[0.1,0.9],[0.2,0.8],[0.3,0.7],[0.4,0.6],[0.45,0.55],[0.47,0.53]]))\n",
    "assert(cpd_peso.get_prob({'estatura':'baja', 'alimentación':'buena', 'peso':'bajo'})==0.4)"
   ]
  },
  {
   "cell_type": "markdown",
   "metadata": {
    "id": "AqYZjo8gCmS9"
   },
   "source": [
    "# Red bayesiana\n",
    "Una vez tenemos representaciones para grafos y CPDs, podemos pasar a representar nuestro modelo de red bayesiana. Definiremos la clase BayesianNetwork que almacenará el grafo y las CPDs (estas últimas en un diccionario indizado por el nombre de las variables, para facilitar el acceso).\n",
    "\n",
    "La red se creará a partir de un grafo e inicialmente creará CPDs con parámetros a 0 para cada variable."
   ]
  },
  {
   "cell_type": "code",
   "execution_count": null,
   "metadata": {
    "id": "trqy6HfYDnLT"
   },
   "outputs": [],
   "source": [
    "class BayesianNetwork:\n",
    "  def __init__(self, grafo):\n",
    "    self.grafo = grafo\n",
    "    self.cpds = {}\n",
    "    for nodo in grafo.nodos:\n",
    "      #TODO: Crea una CPD con las variables correctas (y los parámetros a 0) para nodo.variable\n",
    "      ...\n",
    "\n",
    "red_est = BayesianNetwork(grafo_est)"
   ]
  },
  {
   "cell_type": "markdown",
   "metadata": {
    "id": "DtxFY2KMEzBj"
   },
   "source": [
    "## Entrenamiento por Máxima Verosimilitud\n",
    "Una de las maneras de aprender los parámetros de las CPDs asociadas a una red bayesiana es utilizando la **estimación de máxima verosimilitud**. Consiste en encontrar los parámetros de CPDs que maximicen la probabilidad asignada a todos los ejemplos contenidos en el conjunto de datos de entrenamiento:\n",
    "\n",
    "$$P(X|θ) = \\prod_i P(x^{(i)}|\\theta)$$\n",
    "\n",
    "La regla de la cadena y el desarrollo matemático de la fórmula nos indican que cada parámetro se podrá obtener haciendo un mero recuento.\n",
    "\n",
    "Debemos adaptar nuestra clase CPD para que permita ir acumulando los recuentos durante la fase de entrenamiento y para que, una vez terminado el entrenamiento, normalice los valores de las tablas para que representen distribuciones de probabilidad.\n",
    "\n",
    "Podemos aprovechar la naturaleza dinámica de Python para añadir estas nuevas funcionalidades sin necesidad de volver a ejecutar las celdas anteriores."
   ]
  },
  {
   "cell_type": "code",
   "execution_count": null,
   "metadata": {
    "colab": {
     "base_uri": "https://localhost:8080/"
    },
    "id": "mx327Ff7GldA",
    "outputId": "e6e723be-0456-4dcd-e273-4e8725a6c2f1"
   },
   "outputs": [],
   "source": [
    "def cuenta(self, data):\n",
    "  '''\n",
    "  Método de la clase CPD\n",
    "  Aumenta en 1 el parámetro correspondiente a los valores indicados en data\n",
    "  '''\n",
    "  # TODO: Completa el método (recuerda los métodos get_indice_fila y get_indice_columna)\n",
    "  ...\n",
    "\n",
    "def normaliza(self):\n",
    "  '''\n",
    "  Método de la clase CPD\n",
    "  Normaliza la matriz de parámetros (que durante la fase de entrenamiento almacena\n",
    "  recuentos) para dar lugar a distribuciones de probabilidad\n",
    "  '''\n",
    "  # TODO: Normaliza la matriz CPD. Cada fila debe sumar 1.\n",
    "  self.cpd /= ...\n",
    "\n",
    "# Enlazamos los métodos a la clase para darle la nueva funcionalidad\n",
    "CPD.cuenta = cuenta\n",
    "CPD.normaliza = normaliza\n",
    "\n",
    "# Comprobaciones\n",
    "datos_ejemplo = [{'peso':'bajo', 'alimentación':'buena'},\\\n",
    "                 {'peso':'bajo', 'alimentación':'mala'},\\\n",
    "                 {'peso':'alto', 'alimentación':'buena'},\\\n",
    "                 {'peso':'alto', 'alimentación':'mala'},\\\n",
    "                 {'peso':'alto', 'alimentación':'mala'},\\\n",
    "                 {'peso':'alto', 'alimentación':'mala'}]\n",
    "\n",
    "cpd_peso = CPD(var_peso, [var_alimentacion])\n",
    "for d in datos_ejemplo:\n",
    "  cpd_peso.cuenta(d)\n",
    "assert(cpd_peso.get_prob({'peso':'alto', 'alimentación':'buena'})==1)\n",
    "assert(cpd_peso.get_prob({'peso':'alto', 'alimentación':'mala'})==3)\n",
    "cpd_peso.normaliza()\n",
    "print(cpd_peso)\n",
    "assert(cpd_peso.get_prob({'peso':'alto', 'alimentación':'buena'})==0.5)\n",
    "assert(cpd_peso.get_prob({'peso':'bajo', 'alimentación':'mala'})==0.25)"
   ]
  },
  {
   "cell_type": "markdown",
   "metadata": {
    "id": "CUxA0IRAKE_l"
   },
   "source": [
    "Con esta adaptación, ya podemos escribir el método para realizar el entrenamiento por máxima verosimilitud. El método recibirá un DataFrame de Pandas e iterará una sola vez por las filas haciendo los recuentos."
   ]
  },
  {
   "cell_type": "code",
   "execution_count": null,
   "metadata": {
    "id": "dt1T5avYKMi8"
   },
   "outputs": [],
   "source": [
    "def fit(self, data):\n",
    "  '''\n",
    "  Método de BayesianNetwork\n",
    "  Realiza entrenamiento MLE a partir de los datos recibidos como parámetro\n",
    "  \n",
    "  Params:\n",
    "    data: DataFrame con ejemplos descritos con las variables abarcadas por la red\n",
    "  '''\n",
    "  for _, row in data.iterrows():\n",
    "    for n in self.grafo.nodos:\n",
    "      #TODO: Actualiza el recuento de la CPD correspondiente\n",
    "      ...\n",
    "\n",
    "  #TODO: Normaliza todas las CPDs\n",
    "  ...\n",
    "\n",
    "BayesianNetwork.fit=fit\n",
    "\n",
    "# Comprobaciones\n",
    "red_test = BayesianNetwork(Grafo([var_alimentacion, var_peso],[(var_alimentacion,var_peso)]))\n",
    "red_test.fit(pd.DataFrame(datos_ejemplo))\n",
    "assert(red_test.cpds['peso'].get_prob({'peso':'bajo', 'alimentación':'mala'})==0.25)"
   ]
  },
  {
   "cell_type": "markdown",
   "metadata": {
    "id": "7VPGEpdwO__0"
   },
   "source": [
    "## Predicción MAP (Maximum a posteriori)\n",
    "Una vez tenemos una red entrenada, podemos estimar la probabilidad de un ejemplo dado en el que todas sus variables tengan valor asignado ($P(x^{(k)}_0,x^{(k)}_1,...,x^{(k)}_d)$) utilizando la regla de la cadena. La probabilidad será el producto de las probabilidades asignadas en las distintas CPDs de la red.\n",
    "\n",
    "$$P(\\mathbf{x}^{(k)}) = \\prod_i P(x^{(k)}_i | padres(x^{(k)}_i))$$\n",
    "\n",
    "Añadiremos, además, la funcionalidad de hacer predicciones de una variable $Y$ a partir de la observación las demás ($P(Y | (X-Y))$). Para ello estimaremos la probabilidad del ejemplo con todos los valores posibles de $Y$ y devolveremos el valor de mayor probabilidad.\n",
    "\n",
    "$$MAP(Y | (X-Y)=(\\mathbf{x}-\\mathbf{y})^{(k)})=argmax_{y}(P(Y=y | (X-Y)=(\\mathbf{x}-\\mathbf{y})^{(k)}))$$"
   ]
  },
  {
   "cell_type": "code",
   "execution_count": null,
   "metadata": {
    "colab": {
     "base_uri": "https://localhost:8080/"
    },
    "id": "BymftkAzSclG",
    "outputId": "e7f92338-ee42-43da-ceff-df99c0a7df84"
   },
   "outputs": [],
   "source": [
    "def get_prob(self, row):\n",
    "  '''\n",
    "  Método de BayesianNetwork\n",
    "  Dada una fila con datos, devuelve la probabilidad de dicha fila.\n",
    "  La fila debe contener los padres de todas las variables que contenga.\n",
    "  '''\n",
    "  # TODO: Calcula la probabilidad utilizando la regla de la cadena\n",
    "  p = 1\n",
    "  ...\n",
    "  return p\n",
    "\n",
    "def predict_probs(self, row, target_variable):\n",
    "  '''\n",
    "  Método de Bayesian Network\n",
    "  Dada una fila con datos, devuelve una lista con la probabilidad de cada valor\n",
    "  posible de la target variable\n",
    "\n",
    "  Returns:\n",
    "    Lista de tuplas (probabilidad, valor)\n",
    "  '''\n",
    "  probs = []\n",
    "  #Hacemos una copia sobre la que modificar el valor sin afectar a los datos originales\n",
    "  values = row.copy()\n",
    "\n",
    "  #TODO: Añade a probs las tuplas necesarias\n",
    "  ...\n",
    "  return probs\n",
    "\n",
    "def predict(self, row, target_variable):\n",
    "  '''\n",
    "  Método de BayesianNetwork\n",
    "  Dada una fila con datos, devuelve el valor más probable para la variable target\n",
    "  '''\n",
    "  probs = self.predict_probs(row, target_variable)\n",
    "  #TODO: Devuelve el valor de máxima probabilidad\n",
    "  ...\n",
    "\n",
    "\n",
    "BayesianNetwork.get_prob=get_prob\n",
    "BayesianNetwork.predict_probs=predict_probs\n",
    "BayesianNetwork.predict=predict\n",
    "\n",
    "# Comprobaciones\n",
    "print(red_test.predict_probs({'peso':'alto'},var_alimentacion))\n",
    "assert(red_test.predict({'peso':'alto'},var_alimentacion)=='mala')"
   ]
  },
  {
   "cell_type": "markdown",
   "metadata": {
    "id": "T1BflxDjLOR3"
   },
   "source": [
    "# Experimentos\n",
    "\n",
    "## Conjunto de datos\n",
    "Para probar nuestro modelo descargaremos el un conjunto de datos *Nursery* del [UCI Machine Learning Repository](https://archive.ics.uci.edu/ml/datasets/Nursery). Este conjunto representa candidaturas a una escuela de enfermería eslovena. Cada candidatura presenta una serie de características (categóricas) sociodemográficas y es valorada con una decisión que indica su prioridad a la hora de ser admitida."
   ]
  },
  {
   "cell_type": "code",
   "execution_count": null,
   "metadata": {
    "colab": {
     "base_uri": "https://localhost:8080/"
    },
    "id": "r-5D3dfMMMaW",
    "outputId": "370b24bc-2c7c-4aa5-dcfa-2d28b3f68267"
   },
   "outputs": [],
   "source": [
    "from os import listdir\n",
    "import os.path\n",
    "\n",
    "PATH = 'lab11/'\n",
    "\n",
    "if not os.path.exists(PATH):\n",
    "    os.mkdir(PATH)\n",
    "    !wget https://archive.ics.uci.edu/ml/machine-learning-databases/nursery/nursery.data -O lab11/nursery.data\n",
    "\n",
    "nombres_variables = ['parents','has_nurs','form','children','housing','finance','social','health','decision']\n",
    "NOMBRE_ETIQUETA = 'decision'\n",
    "\n",
    "data = pd.read_csv(PATH + 'nursery.data', ',', names=nombres_variables)\n",
    "\n",
    "# Creamos un objeto Variable para cada variable donde almacenamos todos sus\n",
    "# posibles valores\n",
    "variables = []\n",
    "etiqueta = None\n",
    "for v in nombres_variables:\n",
    "  variables.append(Variable(v,list(data[v].unique())))\n",
    "  if v==NOMBRE_ETIQUETA:\n",
    "    etiqueta = Variable(v,list(data[v].unique()))\n",
    "\n",
    "# Mostramos los datos para un primer examen superficial\n",
    "print(data)"
   ]
  },
  {
   "cell_type": "markdown",
   "metadata": {
    "id": "H8ipH9xCMkYh"
   },
   "source": [
    "Hacemos una partición en train-test utilizando la librería *sklearn*."
   ]
  },
  {
   "cell_type": "code",
   "execution_count": null,
   "metadata": {
    "id": "Jb9m1WMmMsiM"
   },
   "outputs": [],
   "source": [
    "from sklearn.model_selection import train_test_split\n",
    "train_data, test_data = train_test_split(data, test_size=0.3, random_state=1235)"
   ]
  },
  {
   "cell_type": "markdown",
   "metadata": {
    "id": "MPaU57OgNUvm"
   },
   "source": [
    "# Modelo Naïve-Bayes\n",
    "La red bayesiana que vamos a probar será un modelo **Naïve Bayes**. En este modelo, se asume la independencia de todas las variables de entrada entre sí, mientras que se asume que la probabilidad de cada variable depende de la clase.\n",
    "\n",
    "<img src=\"./img/naive-bayes.png\" alt=\"Arquitectura del modelo Naive Bayes\" width=\"700\"/>\n",
    "\n",
    "Crea la red bayesiana correspondiente y entrénala con *train_data*"
   ]
  },
  {
   "cell_type": "code",
   "execution_count": null,
   "metadata": {
    "id": "kW6QamStOEbQ"
   },
   "outputs": [],
   "source": [
    "# TODO: Crea el Grafo y la BayesianNetwork\n",
    "red_naive = ...\n",
    "\n",
    "# TODO: Entrena la red\n",
    "..."
   ]
  },
  {
   "cell_type": "markdown",
   "metadata": {
    "id": "m3gELx3uOxK5"
   },
   "source": [
    "### Verificación del modelo\n",
    "Para comprobar la eficacia de nuestro modelo vamos a medir la precisión de clasificación y el F1-score de las predicciones sobre el conjunto de test. Para ello utilizaremos la librería sklearn."
   ]
  },
  {
   "cell_type": "code",
   "execution_count": null,
   "metadata": {
    "colab": {
     "base_uri": "https://localhost:8080/"
    },
    "id": "6UsM-2KAJPtu",
    "outputId": "e865a974-7ab8-4cd7-8d2f-115ff44d8aa5"
   },
   "outputs": [],
   "source": [
    "from sklearn.metrics import accuracy_score, f1_score\n",
    "\n",
    "# TODO: Obtén las predicciones sobre el conjunto de test\n",
    "predictions = ...\n",
    "\n",
    "print('Accuracy:',accuracy_score(test_data[etiqueta.nombre], predictions))\n",
    "print('F1-score:',f1_score(test_data[etiqueta.nombre], predictions, average='macro'))"
   ]
  },
  {
   "cell_type": "markdown",
   "metadata": {
    "id": "a7aqs1ZxJsx3"
   },
   "source": [
    "## Otros usos para el modelo\n",
    "Una ventaja de las redes bayesianas es que se pueden utilizar para generar datos que sigan la distribución que representan. Vamos a incluir dicha funcionalidad en nuestra BayesianNetwork. Generar un nuevo ejemplo consistirá en asignar un valor aleatorio (respectando las probabilidades indicadas por la CPD de dicha variable) a cada variable. Se deberá comenzar por las variables que no están condicionadas y utilizar los valores asignados para generar los valores sucesivos."
   ]
  },
  {
   "cell_type": "code",
   "execution_count": null,
   "metadata": {
    "colab": {
     "base_uri": "https://localhost:8080/"
    },
    "id": "JBTa8wZ4KijD",
    "outputId": "4c35c27b-e20a-4457-e1db-6eb60c187c30"
   },
   "outputs": [],
   "source": [
    "def sample(self, values):\n",
    "  '''\n",
    "  Método de CPD\n",
    "  Asigna un valor aleatorio a la variable respetando los parámetros de la CPD y\n",
    "  los valores recibidos como parámetro\n",
    "  '''\n",
    "  indice_fila = self.get_indice_fila(values)\n",
    "  r = np.random.random()\n",
    "  for i,p in enumerate(self.cpd[indice_fila]):\n",
    "    if r < p:\n",
    "      return self.variable.valores[i]\n",
    "    r -= p\n",
    "  return self.variable.valores[-1]\n",
    "\n",
    "CPD.sample=sample\n",
    "\n",
    "def sample(self):\n",
    "  '''\n",
    "  Método de BayesianNetwork\n",
    "  Crea un nuevo diccionario con un valor asignado a cada una de las variables que\n",
    "  abarca la red\n",
    "  '''\n",
    "  sampled_values = {} # Vector generado\n",
    "\n",
    "  # Elegimos la siguiente CPD no muestreada para la que tenemos valores de todas sus variables condicionantes\n",
    "  while len(sampled_values)<len(self.cpds):\n",
    "    next_cpd = None\n",
    "    for nom_var,cpd in self.cpds.items():\n",
    "      if nom_var not in sampled_values:\n",
    "        cpd_valida = True\n",
    "        for condicion in cpd.variables_condicion:\n",
    "          if condicion.nombre not in sampled_values:\n",
    "            cpd_valida = False\n",
    "            continue\n",
    "        if cpd_valida:\n",
    "            next_cpd = cpd\n",
    "    \n",
    "    # Muestreamos la CPD\n",
    "    sampled_values[next_cpd.variable.nombre] = next_cpd.sample(sampled_values)\n",
    "  return sampled_values\n",
    "\n",
    "def sample_dataframe(self, num_elems):\n",
    "  '''\n",
    "  Método de BayesianNetwork\n",
    "  Crea un nuevo DataFrame de num_elems elementos respetando la distribución que\n",
    "  representa la red\n",
    "  '''\n",
    "  elems = []\n",
    "  for i in range(num_elems):\n",
    "    elems.append(self.sample())\n",
    "  return pd.DataFrame(elems)\n",
    "\n",
    "BayesianNetwork.sample=sample\n",
    "BayesianNetwork.sample_dataframe=sample_dataframe\n",
    "\n",
    "# Comprobaciones\n",
    "print(red_naive.sample_dataframe(10))"
   ]
  },
  {
   "cell_type": "markdown",
   "metadata": {
    "id": "NIFAz4rRMtu8"
   },
   "source": [
    "# Ejercicios\n",
    "1. Crea la red de la imagen (utiliza los valores suministrados) y genera 10000 ejemplos en un DataFrame. Expórtalo a CSV y repite el experimento para comprobar qué tal funciona el modelo Naïve Bayes en ese problema.\n",
    "1. Crea nuevamente la misma red, pero con los parámetros a 0. Entrénala con el CSV generado. ¿Esperas que los resultados de Accuracy y F1-Score? ¿Son tan buenos como esperabas?\n",
    "\n",
    "<img src=\"./img/red-ejemplo.png\" alt=\"Arquitectura del modelo Naive Bayes\" width=\"700\"/>"
   ]
  },
  {
   "cell_type": "code",
   "execution_count": null,
   "metadata": {
    "id": "R4dXI-JKONiR"
   },
   "outputs": [],
   "source": [
    "NOMBRE_ETIQUETA = 'carta'\n",
    "\n",
    "variables_v = {'dificultad': ['fácil', 'difícil'],'inteligencia': ['baja','alta'],'calificación':['suspenso','aprobado','sobresaliente'],'ebau':['suspenso','aprobado'],'carta':['no','sí']}\n",
    "\n",
    "cpd_dificultad = np.array([[0.6, 0.4]])\n",
    "cpd_inteligencia = np.array([[0.7, 0.3]])\n",
    "cpd_calificación = np.array([[0.3, 0.4, 0.3],[0.7,0.25,0.05],[0.02,0.08,0.9],[0.2,0.3,0.5]])\n",
    "cpd_ebau = np.array([[0.95, 0.05],[0.2,0.8]])\n",
    "cpd_carta = np.array([[0.99, 0.01],[0.4,0.6],[0.1,0.9]])"
   ]
  }
 ],
 "metadata": {
  "colab": {
   "collapsed_sections": [],
   "name": "lab11.ipynb",
   "provenance": []
  },
  "kernelspec": {
   "display_name": "Python 3 (ipykernel)",
   "language": "python",
   "name": "python3"
  },
  "language_info": {
   "codemirror_mode": {
    "name": "ipython",
    "version": 3
   },
   "file_extension": ".py",
   "mimetype": "text/x-python",
   "name": "python",
   "nbconvert_exporter": "python",
   "pygments_lexer": "ipython3",
   "version": "3.9.6"
  }
 },
 "nbformat": 4,
 "nbformat_minor": 1
}
