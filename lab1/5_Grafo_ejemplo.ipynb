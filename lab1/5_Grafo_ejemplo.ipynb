{
  "cells": [
    {
      "cell_type": "markdown",
      "metadata": {
        "id": "JJ7rPm24-293"
      },
      "source": [
        "[![Open In Colab](https://colab.research.google.com/assets/colab-badge.svg)](https://colab.research.google.com/github/eirasf/GCED-AA2/blob/main/lab1/5_Grafo_ejemplo.ipynb)"
      ]
    },
    {
      "cell_type": "code",
      "execution_count": null,
      "metadata": {
        "colab": {
          "base_uri": "https://localhost:8080/"
        },
        "id": "Y7Bkr48Uvbhz",
        "outputId": "3f7a394c-edea-4026-9b96-3eaf7c66823f"
      },
      "outputs": [],
      "source": [
        "import torch\n",
        "\n",
        "x = torch.tensor(2)\n",
        "y = torch.tensor(3)\n",
        "\n",
        "op1 = torch.add(x, y)        # suma\n",
        "op2 = torch.multiply(x, y)   # multiplicación\n",
        "op3 = torch.pow(op2, op1)    # potencia\n",
        "\n",
        "print(f\"El resultado de ({x.item()}*{y.item()})^({x.item()}+{y.item()}) es {op3.item()}\")\n"
      ]
    }
  ],
  "metadata": {
    "colab": {
      "name": "5_Grafo_ejemplo (2).ipynb",
      "provenance": []
    },
    "kernelspec": {
      "display_name": "aa2-torch",
      "language": "python",
      "name": "python3"
    },
    "language_info": {
      "codemirror_mode": {
        "name": "ipython",
        "version": 3
      },
      "file_extension": ".py",
      "mimetype": "text/x-python",
      "name": "python",
      "nbconvert_exporter": "python",
      "pygments_lexer": "ipython3",
      "version": "3.13.7"
    }
  },
  "nbformat": 4,
  "nbformat_minor": 0
}
