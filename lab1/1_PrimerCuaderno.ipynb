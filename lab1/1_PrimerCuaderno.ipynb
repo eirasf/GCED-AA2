{
  "nbformat": 4,
  "nbformat_minor": 0,
  "metadata": {
    "colab": {
      "name": "1_PrimerCuaderno.ipynb",
      "provenance": [],
      "collapsed_sections": []
    },
    "kernelspec": {
      "name": "python3",
      "display_name": "Python 3"
    },
    "language_info": {
      "name": "python"
    }
  },
  "cells": [
    {
      "cell_type": "markdown",
      "metadata": {
        "id": "enZwtxLSCaiD"
      },
      "source": [
        "[![Open In Colab](https://colab.research.google.com/assets/colab-badge.svg)](https://colab.research.google.com/github/eirasf/GCED-AA2/blob/main/lab1/1_PrimerCuaderno.ipynb)"
      ]
    },
    {
      "cell_type": "code",
      "metadata": {
        "id": "-R_aNg4JYlha",
        "colab": {
          "base_uri": "https://localhost:8080/"
        },
        "outputId": "a17c3c1c-130b-4c53-d9c1-8f565e122eaa"
      },
      "source": [
        "print(\"Hola mundo\")\n"
      ],
      "execution_count": null,
      "outputs": [
        {
          "output_type": "stream",
          "name": "stdout",
          "text": [
            "Hola mundo\n"
          ]
        }
      ]
    },
    {
      "cell_type": "markdown",
      "metadata": {
        "id": "J0NucVskdveE"
      },
      "source": [
        "Hola, este es mi primer notebook"
      ]
    }
  ]
}