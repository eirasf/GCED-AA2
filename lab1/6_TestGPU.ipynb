{
  "cells": [
    {
      "cell_type": "markdown",
      "metadata": {
        "id": "aybSYSSDEBVB"
      },
      "source": [
        "[![Open In Colab](https://colab.research.google.com/assets/colab-badge.svg)](https://colab.research.google.com/github/eirasf/GCED-AA2/blob/main/lab1/6_TestGPU.ipynb)"
      ]
    },
    {
      "cell_type": "code",
      "execution_count": null,
      "metadata": {
        "colab": {
          "base_uri": "https://localhost:8080/"
        },
        "id": "k_lyoz2dv4TS",
        "outputId": "99f37953-b444-4778-b5a1-aa47a3e062e8"
      },
      "outputs": [],
      "source": [
        "import torch\n",
        "\n",
        "if not torch.cuda.is_available():\n",
        "    raise SystemError(\"GPU device not found\")\n",
        "\n",
        "device_name = torch.cuda.get_device_name(0)\n",
        "print(f\"Found GPU at: {device_name}\")"
      ]
    }
  ],
  "metadata": {
    "accelerator": "GPU",
    "colab": {
      "name": "6_TestGPU.ipynb",
      "provenance": []
    },
    "kernelspec": {
      "display_name": "aa2-torch",
      "language": "python",
      "name": "python3"
    },
    "language_info": {
      "codemirror_mode": {
        "name": "ipython",
        "version": 3
      },
      "file_extension": ".py",
      "mimetype": "text/x-python",
      "name": "python",
      "nbconvert_exporter": "python",
      "pygments_lexer": "ipython3",
      "version": "3.13.7"
    }
  },
  "nbformat": 4,
  "nbformat_minor": 0
}
